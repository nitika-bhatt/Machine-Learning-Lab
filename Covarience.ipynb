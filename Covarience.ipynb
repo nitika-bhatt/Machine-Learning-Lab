{
 "cells": [
  {
   "cell_type": "code",
   "execution_count": null,
   "id": "d11d60a0",
   "metadata": {},
   "outputs": [],
   "source": [
    "#Mean and Covarience"
   ]
  },
  {
   "cell_type": "code",
   "execution_count": 26,
   "id": "31b910ec",
   "metadata": {},
   "outputs": [
    {
     "name": "stdout",
     "output_type": "stream",
     "text": [
      "The mean values are as follows: for Wt:  163.89999999999998 for Ht:  73.19999999999999 for time taken to cover 100m:  12.5\n",
      "The sum values are as follows: for : average_wt_average_wt 2714.9  average_ht_average_wt:  3365.6000000000004 average_tt_average_tt:  36.5\n",
      "The sum values of cov_x_y:  2931.2000000000003 cov_x_z:  -43.5 cov_y_z -8.0\n",
      "The final covarience matrix is:\n",
      " +--------+--------+-------+\n",
      "| 301.66 | 325.69 | -4.83 |\n",
      "+--------+--------+-------+\n",
      "| 325.69 | 373.96 | -0.89 |\n",
      "+--------+--------+-------+\n",
      "|  -4.83 |  -0.89 |  4.06 |\n",
      "+--------+--------+-------+\n"
     ]
    }
   ],
   "source": [
    "from tabulate import tabulate\n",
    "Wt=[162, 171, 180, 154, 152, 196, 157, 163, 132, 172]\n",
    "n_Wt=len(Wt)\n",
    "Ht=[78, 88, 91, 62, 52, 106, 63, 69, 42, 81]\n",
    "n_Ht=len(Ht)\n",
    "Time_taken100m=[13, 14, 13, 15, 10, 9, 11, 13, 12, 15]\n",
    "n_Time_taken100m=len(Time_taken100m)\n",
    "wt_average=0\n",
    "Ht_average=0\n",
    "TT_100_average=0\n",
    "for i in range(0, n_Wt):\n",
    "    wt_average+=(Wt[i]/n_Wt)\n",
    "    Ht_average+=(Ht[i]/n_Ht)\n",
    "    TT_100_average+=(Time_taken100m[i]/n_Time_taken100m)\n",
    "print(\"The mean values are as follows: for Wt: \", wt_average, \"for Ht: \", Ht_average, \"for time taken to cover 100m: \", TT_100_average)\n",
    "average_wt_average_wt=0\n",
    "average_ht_average_wt=0\n",
    "average_tt_average_tt=0\n",
    "for i in range (0, n_Wt):\n",
    "    average_wt_average_wt+=((Wt[i]-wt_average)**2)\n",
    "    average_ht_average_wt+=((Ht[i]-Ht_average)**2)\n",
    "    average_tt_average_tt+=((Time_taken100m[i]-TT_100_average)**2)\n",
    "\n",
    "print(\"The sum values are as follows: for : average_wt_average_wt\", average_wt_average_wt, \" average_ht_average_wt: \", average_ht_average_wt, \"average_tt_average_tt: \", average_tt_average_tt)\n",
    "cov_x_y=0\n",
    "cov_x_z=0\n",
    "cov_y_z=0\n",
    "for i in range (0, n_Wt):\n",
    "    cov_x_y+=((Wt[i]-wt_average) * ((Ht[i]-Ht_average)))\n",
    "    cov_x_z+=((Wt[i]-wt_average) * (Time_taken100m[i]-TT_100_average))\n",
    "    cov_y_z+=((Ht[i]-Ht_average) * (Time_taken100m[i]-TT_100_average))\n",
    "print(\"The sum values of cov_x_y: \", cov_x_y, \"cov_x_z: \", cov_x_z, \"cov_y_z\", cov_y_z)\n",
    "\n",
    "#************************************************\n",
    "covarience_x_x=average_wt_average_wt/(n_Wt-1)\n",
    "covarience_y_y=average_ht_average_wt/(n_Ht-1)\n",
    "covarience_z_z=average_tt_average_tt/(n_Time_taken100m-1)\n",
    "covarience_x_y=cov_x_y/(n_Wt-1)\n",
    "covarience_x_z=cov_x_z/(n_Wt-1)\n",
    "covarience_y_z=cov_y_z/(n_Wt-1)\n",
    "\n",
    "# print(round(covarience_x_x, 1))\n",
    "# print(round(covarience_y_y,1))\n",
    "# print(round(covarience_z_z,1))\n",
    "# print(round(covarience_x_y,1))\n",
    "# print(round(covarience_x_z,1))\n",
    "# print(round(covarience_y_z,1))\n",
    "\n",
    "matrix=[\n",
    "    [round(covarience_x_x,2), round(covarience_x_y,2), round(covarience_x_z,2)],\n",
    "    [round(covarience_x_y,2), round(covarience_y_y,2), round(covarience_y_z,2)],\n",
    "    [round(covarience_x_z,2), round(covarience_y_z,2), round(covarience_z_z,2)]\n",
    "]\n",
    "print(\"The final covarience matrix is:\\n\", tabulate(matrix, tablefmt=\"grid\"))"
   ]
  }
 ],
 "metadata": {
  "kernelspec": {
   "display_name": "Python 3",
   "language": "python",
   "name": "python3"
  },
  "language_info": {
   "codemirror_mode": {
    "name": "ipython",
    "version": 3
   },
   "file_extension": ".py",
   "mimetype": "text/x-python",
   "name": "python",
   "nbconvert_exporter": "python",
   "pygments_lexer": "ipython3",
   "version": "3.13.7"
  }
 },
 "nbformat": 4,
 "nbformat_minor": 5
}
